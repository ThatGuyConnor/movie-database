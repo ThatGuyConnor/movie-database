{
 "cells": [
  {
   "cell_type": "code",
   "execution_count": 1,
   "id": "466d2ff6",
   "metadata": {},
   "outputs": [],
   "source": [
    "import numpy as np\n",
    "import pandas as pd\n",
    "import openpyxl\n",
    "import rich\n",
    "import tabulate\n",
    "import main"
   ]
  },
  {
   "cell_type": "code",
   "execution_count": 2,
   "id": "7adb9cb9",
   "metadata": {},
   "outputs": [
    {
     "name": "stdout",
     "output_type": "stream",
     "text": [
      "Loaded 5 entries from data/movies_shows.xlsx\n",
      "\n",
      "==================================================\n",
      "MOVIE & TV SHOW DATABASE\n",
      "==================================================\n",
      "1. Show all entries\n",
      "2. Filter by class (Movie/TV Show)\n",
      "3. Filter by genre\n",
      "4. Filter by status\n",
      "5. Filter by rating range\n",
      "6. Search by name\n",
      "7. Add new entry\n",
      "8. Remove entry\n",
      "9. Show statistics\n",
      "0. Exit\n",
      "==================================================\n",
      "Goodbye!\n"
     ]
    }
   ],
   "source": [
    "app = main.MovieApp('data/movies_shows.xlsx')\n",
    "app.run()"
   ]
  },
  {
   "cell_type": "code",
   "execution_count": 6,
   "id": "55956bdf",
   "metadata": {},
   "outputs": [
    {
     "ename": "AttributeError",
     "evalue": "module 'streamlit' has no attribute 'run'",
     "output_type": "error",
     "traceback": [
      "\u001b[1;31m---------------------------------------------------------------------------\u001b[0m",
      "\u001b[1;31mAttributeError\u001b[0m                            Traceback (most recent call last)",
      "Cell \u001b[1;32mIn[6], line 2\u001b[0m\n\u001b[0;32m      1\u001b[0m \u001b[38;5;28;01mimport\u001b[39;00m \u001b[38;5;21;01mstreamlit\u001b[39;00m\n\u001b[1;32m----> 2\u001b[0m \u001b[43mstreamlit\u001b[49m\u001b[38;5;241;43m.\u001b[39;49m\u001b[43mrun\u001b[49m(streamlit_app\u001b[38;5;241m.\u001b[39mpy)\n",
      "\u001b[1;31mAttributeError\u001b[0m: module 'streamlit' has no attribute 'run'"
     ]
    }
   ],
   "source": [
    "import streamlit\n",
    "streamlit.run(streamlit_app.py)"
   ]
  },
  {
   "cell_type": "code",
   "execution_count": 1,
   "id": "7ad9c060",
   "metadata": {},
   "outputs": [
    {
     "ename": "SyntaxError",
     "evalue": "invalid syntax (742797202.py, line 1)",
     "output_type": "error",
     "traceback": [
      "\u001b[1;36m  Cell \u001b[1;32mIn[1], line 1\u001b[1;36m\u001b[0m\n\u001b[1;33m    python -m streamlit run streamlit_app.py\u001b[0m\n\u001b[1;37m              ^\u001b[0m\n\u001b[1;31mSyntaxError\u001b[0m\u001b[1;31m:\u001b[0m invalid syntax\n"
     ]
    }
   ],
   "source": [
    "python -m streamlit run streamlit_app.py"
   ]
  },
  {
   "cell_type": "code",
   "execution_count": null,
   "id": "c1deaa1e",
   "metadata": {},
   "outputs": [],
   "source": []
  }
 ],
 "metadata": {
  "kernelspec": {
   "display_name": "Python 3",
   "language": "python",
   "name": "python3"
  },
  "language_info": {
   "codemirror_mode": {
    "name": "ipython",
    "version": 3
   },
   "file_extension": ".py",
   "mimetype": "text/x-python",
   "name": "python",
   "nbconvert_exporter": "python",
   "pygments_lexer": "ipython3",
   "version": "3.13.7"
  }
 },
 "nbformat": 4,
 "nbformat_minor": 5
}
